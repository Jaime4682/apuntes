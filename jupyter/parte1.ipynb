{
 "cells": [
  {
   "cell_type": "markdown",
   "metadata": {},
   "source": [
    "#\n",
    "## Datos\n",
    " ### <strong>Sistema</strong>  \n",
    "![](../img/marco_exm_p1.jpg)\n",
    "   \n",
    "Tensor redoncedo $^3/_4\"$ diámetro de acero A-36   \n",
    "Columnas de concreto:  \n",
    "$\\space$ Marco = 4.5 x 6 [mts]  \n",
    "$\\space Sección \\space 50 \\times 30 \\space [cm]$  \n",
    "$\\space f'_c = 250 kg/cm^2$   \n",
    "$\\space E = 14000\\sqrt{f'_c}$   \n",
    "$\\space G \\approx 0.4E$   \n",
    "$\\space W = 31 \\space$ tonf   \n",
    " Amortiguamiento[%] $\\to \\begin{cases}\n",
    "                           \\xi_1 = 2\\%\\\\\n",
    "                           \\xi_2 = 3\\%\n",
    "                           \\end{cases}$ \n",
    "### <strong>Calculos</strong> \n",
    "Freciencia Angular  \n",
    "$\\space w = \\sqrt{\\frac{k}{m}}$  \n",
    "$\\space w_D = w*\\sqrt{(1+\\xi^2)}$     \n",
    "\n",
    "Periodo   \n",
    "$\\space T = \\cfrac{2\\pi}{w}$    \n",
    "   \n",
    "Frecuencia Circular   \n",
    "$f = \\frac{1}{T}$\n",
    "\n",
    "Desplazamiento   \n",
    "$u_{i+1} = Au_{i} + B \\dot{u}_{i} +CP_{i} + DP_{i+1} $   "
   ]
  },
  {
   "cell_type": "code",
   "execution_count": 6,
   "metadata": {},
   "outputs": [
    {
     "ename": "FileNotFoundError",
     "evalue": "Caleta E-W 19-09-1985.dat not found.",
     "output_type": "error",
     "traceback": [
      "\u001b[1;31m---------------------------------------------------------------------------\u001b[0m",
      "\u001b[1;31mFileNotFoundError\u001b[0m                         Traceback (most recent call last)",
      "Cell \u001b[1;32mIn [6], line 44\u001b[0m\n\u001b[0;32m     40\u001b[0m   \u001b[39mreturn\u001b[39;00m (t, ac, nom_arch,dt)\n\u001b[0;32m     43\u001b[0m Archivo_nomb \u001b[39m=\u001b[39m \u001b[39m'\u001b[39m\u001b[39mCaleta E-W 19-09-1985.dat\u001b[39m\u001b[39m'\u001b[39m\n\u001b[1;32m---> 44\u001b[0m archivo1 \u001b[39m=\u001b[39m t_ac_nom(Archivo_nomb)\n\u001b[0;32m     45\u001b[0m t \u001b[39m=\u001b[39m archivo1[\u001b[39m0\u001b[39m]\n\u001b[0;32m     46\u001b[0m ac \u001b[39m=\u001b[39m archivo1[\u001b[39m1\u001b[39m]\n",
      "Cell \u001b[1;32mIn [6], line 33\u001b[0m, in \u001b[0;36mt_ac_nom\u001b[1;34m(nom_archivo)\u001b[0m\n\u001b[0;32m     31\u001b[0m \u001b[39mdef\u001b[39;00m \u001b[39mt_ac_nom\u001b[39m(nom_archivo):\n\u001b[0;32m     32\u001b[0m   color \u001b[39m=\u001b[39m random\u001b[39m.\u001b[39mchoice((\u001b[39m'\u001b[39m\u001b[39mblue\u001b[39m\u001b[39m'\u001b[39m,\u001b[39m'\u001b[39m\u001b[39morange\u001b[39m\u001b[39m'\u001b[39m,\u001b[39m'\u001b[39m\u001b[39mgreen\u001b[39m\u001b[39m'\u001b[39m,\u001b[39m'\u001b[39m\u001b[39mred\u001b[39m\u001b[39m'\u001b[39m,\u001b[39m'\u001b[39m\u001b[39mpurple\u001b[39m\u001b[39m'\u001b[39m,\u001b[39m'\u001b[39m\u001b[39mbrown\u001b[39m\u001b[39m'\u001b[39m,\u001b[39m'\u001b[39m\u001b[39mpink\u001b[39m\u001b[39m'\u001b[39m,\u001b[39m'\u001b[39m\u001b[39mgray\u001b[39m\u001b[39m'\u001b[39m,\u001b[39m'\u001b[39m\u001b[39molive\u001b[39m\u001b[39m'\u001b[39m,\u001b[39m'\u001b[39m\u001b[39mcyan\u001b[39m\u001b[39m'\u001b[39m))\n\u001b[1;32m---> 33\u001b[0m   archivo \u001b[39m=\u001b[39m leer_acelerograma(nom_archivo)\n\u001b[0;32m     34\u001b[0m   t \u001b[39m=\u001b[39m archivo[\u001b[39m0\u001b[39m]\n\u001b[0;32m     35\u001b[0m   ac \u001b[39m=\u001b[39m archivo[\u001b[39m1\u001b[39m]\n",
      "Cell \u001b[1;32mIn [6], line 11\u001b[0m, in \u001b[0;36mleer_acelerograma\u001b[1;34m(nom_archivo)\u001b[0m\n\u001b[0;32m     10\u001b[0m \u001b[39mdef\u001b[39;00m \u001b[39mleer_acelerograma\u001b[39m(nom_archivo):\n\u001b[1;32m---> 11\u001b[0m   dat_head \u001b[39m=\u001b[39m np\u001b[39m.\u001b[39;49mloadtxt(nom_archivo, \n\u001b[0;32m     12\u001b[0m                       skiprows\u001b[39m=\u001b[39;49m\u001b[39m1\u001b[39;49m, max_rows\u001b[39m=\u001b[39;49m\u001b[39m1\u001b[39;49m,)\u001b[39m.\u001b[39mT          \u001b[39m#--- Leer datos iniciales de acelerograma\u001b[39;00m\n\u001b[0;32m     13\u001b[0m   dt \u001b[39m=\u001b[39m dat_head[\u001b[39m1\u001b[39m]                                        \u001b[39m#--- Intervalo de tiempo de acelerograma\u001b[39;00m\n\u001b[0;32m     14\u001b[0m   cD \u001b[39m=\u001b[39m \u001b[39mint\u001b[39m(dat_head[\u001b[39m0\u001b[39m])                                   \u001b[39m#--- Cantidad de datos de acelerograma\u001b[39;00m\n",
      "File \u001b[1;32mc:\\Program Files\\Python310\\lib\\site-packages\\numpy\\lib\\npyio.py:1313\u001b[0m, in \u001b[0;36mloadtxt\u001b[1;34m(fname, dtype, comments, delimiter, converters, skiprows, usecols, unpack, ndmin, encoding, max_rows, quotechar, like)\u001b[0m\n\u001b[0;32m   1310\u001b[0m \u001b[39mif\u001b[39;00m \u001b[39misinstance\u001b[39m(delimiter, \u001b[39mbytes\u001b[39m):\n\u001b[0;32m   1311\u001b[0m     delimiter \u001b[39m=\u001b[39m delimiter\u001b[39m.\u001b[39mdecode(\u001b[39m'\u001b[39m\u001b[39mlatin1\u001b[39m\u001b[39m'\u001b[39m)\n\u001b[1;32m-> 1313\u001b[0m arr \u001b[39m=\u001b[39m _read(fname, dtype\u001b[39m=\u001b[39;49mdtype, comment\u001b[39m=\u001b[39;49mcomment, delimiter\u001b[39m=\u001b[39;49mdelimiter,\n\u001b[0;32m   1314\u001b[0m             converters\u001b[39m=\u001b[39;49mconverters, skiplines\u001b[39m=\u001b[39;49mskiprows, usecols\u001b[39m=\u001b[39;49musecols,\n\u001b[0;32m   1315\u001b[0m             unpack\u001b[39m=\u001b[39;49munpack, ndmin\u001b[39m=\u001b[39;49mndmin, encoding\u001b[39m=\u001b[39;49mencoding,\n\u001b[0;32m   1316\u001b[0m             max_rows\u001b[39m=\u001b[39;49mmax_rows, quote\u001b[39m=\u001b[39;49mquotechar)\n\u001b[0;32m   1318\u001b[0m \u001b[39mreturn\u001b[39;00m arr\n",
      "File \u001b[1;32mc:\\Program Files\\Python310\\lib\\site-packages\\numpy\\lib\\npyio.py:955\u001b[0m, in \u001b[0;36m_read\u001b[1;34m(fname, delimiter, comment, quote, imaginary_unit, usecols, skiplines, max_rows, converters, ndmin, unpack, dtype, encoding)\u001b[0m\n\u001b[0;32m    953\u001b[0m     fname \u001b[39m=\u001b[39m os\u001b[39m.\u001b[39mfspath(fname)\n\u001b[0;32m    954\u001b[0m \u001b[39mif\u001b[39;00m \u001b[39misinstance\u001b[39m(fname, \u001b[39mstr\u001b[39m):\n\u001b[1;32m--> 955\u001b[0m     fh \u001b[39m=\u001b[39m np\u001b[39m.\u001b[39;49mlib\u001b[39m.\u001b[39;49m_datasource\u001b[39m.\u001b[39;49mopen(fname, \u001b[39m'\u001b[39;49m\u001b[39mrt\u001b[39;49m\u001b[39m'\u001b[39;49m, encoding\u001b[39m=\u001b[39;49mencoding)\n\u001b[0;32m    956\u001b[0m     \u001b[39mif\u001b[39;00m encoding \u001b[39mis\u001b[39;00m \u001b[39mNone\u001b[39;00m:\n\u001b[0;32m    957\u001b[0m         encoding \u001b[39m=\u001b[39m \u001b[39mgetattr\u001b[39m(fh, \u001b[39m'\u001b[39m\u001b[39mencoding\u001b[39m\u001b[39m'\u001b[39m, \u001b[39m'\u001b[39m\u001b[39mlatin1\u001b[39m\u001b[39m'\u001b[39m)\n",
      "File \u001b[1;32mc:\\Program Files\\Python310\\lib\\site-packages\\numpy\\lib\\_datasource.py:193\u001b[0m, in \u001b[0;36mopen\u001b[1;34m(path, mode, destpath, encoding, newline)\u001b[0m\n\u001b[0;32m    156\u001b[0m \u001b[39m\"\"\"\u001b[39;00m\n\u001b[0;32m    157\u001b[0m \u001b[39mOpen `path` with `mode` and return the file object.\u001b[39;00m\n\u001b[0;32m    158\u001b[0m \n\u001b[1;32m   (...)\u001b[0m\n\u001b[0;32m    189\u001b[0m \n\u001b[0;32m    190\u001b[0m \u001b[39m\"\"\"\u001b[39;00m\n\u001b[0;32m    192\u001b[0m ds \u001b[39m=\u001b[39m DataSource(destpath)\n\u001b[1;32m--> 193\u001b[0m \u001b[39mreturn\u001b[39;00m ds\u001b[39m.\u001b[39;49mopen(path, mode, encoding\u001b[39m=\u001b[39;49mencoding, newline\u001b[39m=\u001b[39;49mnewline)\n",
      "File \u001b[1;32mc:\\Program Files\\Python310\\lib\\site-packages\\numpy\\lib\\_datasource.py:533\u001b[0m, in \u001b[0;36mDataSource.open\u001b[1;34m(self, path, mode, encoding, newline)\u001b[0m\n\u001b[0;32m    530\u001b[0m     \u001b[39mreturn\u001b[39;00m _file_openers[ext](found, mode\u001b[39m=\u001b[39mmode,\n\u001b[0;32m    531\u001b[0m                               encoding\u001b[39m=\u001b[39mencoding, newline\u001b[39m=\u001b[39mnewline)\n\u001b[0;32m    532\u001b[0m \u001b[39melse\u001b[39;00m:\n\u001b[1;32m--> 533\u001b[0m     \u001b[39mraise\u001b[39;00m \u001b[39mFileNotFoundError\u001b[39;00m(\u001b[39mf\u001b[39m\u001b[39m\"\u001b[39m\u001b[39m{\u001b[39;00mpath\u001b[39m}\u001b[39;00m\u001b[39m not found.\u001b[39m\u001b[39m\"\u001b[39m)\n",
      "\u001b[1;31mFileNotFoundError\u001b[0m: Caleta E-W 19-09-1985.dat not found."
     ]
    }
   ],
   "source": [
    "import pandas as pd\n",
    "import numpy as np\n",
    "import matplotlib.pyplot as plt\n",
    "import random\n",
    "\n",
    "##########################\n",
    "### LECTURA DE ARCHIVO ###\n",
    "##########################\n",
    "\n",
    "def leer_acelerograma(nom_archivo):\n",
    "  dat_head = np.loadtxt(nom_archivo, \n",
    "                      skiprows=1, max_rows=1,).T          #--- Leer datos iniciales de acelerograma\n",
    "  dt = dat_head[1]                                        #--- Intervalo de tiempo de acelerograma\n",
    "  cD = int(dat_head[0])                                   #--- Cantidad de datos de acelerograma\n",
    "  n = round(cD*dt,4)+dt                                   #--- Tiempo final (dt*cD)\n",
    "  fac = 1                                                 #--- Factor de correción\n",
    "  t = np.arange(dt,n,dt)                                  #--- Vactor de tiempo\n",
    "  vec_ac = fac*np.loadtxt(nom_archivo, \n",
    "                          skiprows=2, usecols=(0)).T      #--- Factor de corrección * Vector de acelerograma\n",
    "  ac = vec_ac\n",
    "  return (t,vec_ac,nom_archivo,dt)\n",
    "\n",
    "def graficar_acelerograma(t, ac, nom_archivo, color_graf):\n",
    "  plt.plot(t, ac, linewidth = 0.2, color = color_graf)\n",
    "  plt.xlabel('Tiempo (s)')\n",
    "  plt.ylabel('Aceleración (cm/$s^2$)')\n",
    "  plt.title(nom_archivo)\n",
    "  plt.grid(True)\n",
    "  return\n",
    "\n",
    "def t_ac_nom(nom_archivo):\n",
    "  color = random.choice(('blue','orange','green','red','purple','brown','pink','gray','olive','cyan'))\n",
    "  archivo = leer_acelerograma(nom_archivo)\n",
    "  t = archivo[0]\n",
    "  ac = archivo[1]\n",
    "  nom_arch = archivo[2]\n",
    "  dt = archivo[3]\n",
    "  color_graf = color\n",
    "  grafica_ac = graficar_acelerograma(t,ac,nom_arch,color_graf)\n",
    "  return (t, ac, nom_arch,dt)\n",
    "\n",
    "\n",
    "Archivo_nomb = 'Caleta E-W 19-09-1985.dat'\n",
    "archivo1 = t_ac_nom(Archivo_nomb)\n",
    "t = archivo1[0]\n",
    "ac = archivo1[1]\n",
    "dt = archivo1[3]\n"
   ]
  }
 ],
 "metadata": {
  "kernelspec": {
   "display_name": "Python 3.10.7 64-bit",
   "language": "python",
   "name": "python3"
  },
  "language_info": {
   "codemirror_mode": {
    "name": "ipython",
    "version": 3
   },
   "file_extension": ".py",
   "mimetype": "text/x-python",
   "name": "python",
   "nbconvert_exporter": "python",
   "pygments_lexer": "ipython3",
   "version": "3.10.7"
  },
  "orig_nbformat": 4,
  "vscode": {
   "interpreter": {
    "hash": "26de051ba29f2982a8de78e945f0abaf191376122a1563185a90213a26c5da77"
   }
  }
 },
 "nbformat": 4,
 "nbformat_minor": 2
}
